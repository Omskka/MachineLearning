{
 "cells": [
  {
   "cell_type": "markdown",
   "source": [
    "# K-Nearest Neighbor"
   ],
   "metadata": {
    "collapsed": false
   },
   "id": "b6f2e900af143f46"
  },
  {
   "cell_type": "markdown",
   "source": [
    "Import numpy and pandas"
   ],
   "metadata": {
    "collapsed": false
   },
   "id": "c7d58017a370be78"
  },
  {
   "cell_type": "code",
   "execution_count": 51,
   "outputs": [],
   "source": [
    "import numpy as np\n",
    "import pandas as pd"
   ],
   "metadata": {
    "collapsed": false,
    "ExecuteTime": {
     "end_time": "2023-10-31T13:05:25.467374Z",
     "start_time": "2023-10-31T13:05:25.422477Z"
    }
   },
   "id": "8d7b13bce61adf56"
  },
  {
   "cell_type": "markdown",
   "source": [
    "Import matlab for visualisation"
   ],
   "metadata": {
    "collapsed": false
   },
   "id": "4057e53601390104"
  },
  {
   "cell_type": "code",
   "execution_count": 52,
   "outputs": [],
   "source": [
    "import matplotlib.pyplot as plt"
   ],
   "metadata": {
    "collapsed": false,
    "ExecuteTime": {
     "end_time": "2023-10-31T13:05:25.469222Z",
     "start_time": "2023-10-31T13:05:25.426653Z"
    }
   },
   "id": "7bafdcff72bd037"
  },
  {
   "cell_type": "markdown",
   "source": [
    "\n",
    "Import sklearn libraries"
   ],
   "metadata": {
    "collapsed": false
   },
   "id": "b7a3ad3b96bd0513"
  },
  {
   "cell_type": "code",
   "execution_count": 53,
   "outputs": [],
   "source": [
    "from sklearn.model_selection import train_test_split\n",
    "from sklearn.preprocessing import StandardScaler\n",
    "from sklearn.neighbors import KNeighborsClassifier\n",
    "from sklearn.metrics import accuracy_score, confusion_matrix, classification_report"
   ],
   "metadata": {
    "collapsed": false,
    "ExecuteTime": {
     "end_time": "2023-10-31T13:05:25.476709Z",
     "start_time": "2023-10-31T13:05:25.431181Z"
    }
   },
   "id": "49fdbb843446fdf5"
  },
  {
   "cell_type": "markdown",
   "source": [
    "Load data from csv file"
   ],
   "metadata": {
    "collapsed": false
   },
   "id": "9f5d18ec89b257a3"
  },
  {
   "cell_type": "code",
   "execution_count": 54,
   "outputs": [],
   "source": [
    "dataset = pd.read_csv('data.csv')"
   ],
   "metadata": {
    "collapsed": false,
    "ExecuteTime": {
     "end_time": "2023-10-31T13:05:25.478795Z",
     "start_time": "2023-10-31T13:05:25.435166Z"
    }
   },
   "id": "770ba518cd7234a3"
  },
  {
   "cell_type": "markdown",
   "source": [
    "Assign the Independent variables and dependent variables"
   ],
   "metadata": {
    "collapsed": false
   },
   "id": "a595bf0ff0557d4b"
  },
  {
   "cell_type": "code",
   "execution_count": 55,
   "outputs": [],
   "source": [
    "x = dataset.iloc[:, :-1].values\n",
    "y = dataset.iloc[:, -1].values"
   ],
   "metadata": {
    "collapsed": false,
    "ExecuteTime": {
     "end_time": "2023-10-31T13:05:25.505696Z",
     "start_time": "2023-10-31T13:05:25.440622Z"
    }
   },
   "id": "b45e358ecb1bfa6"
  },
  {
   "cell_type": "markdown",
   "source": [
    "Visualise 'x' and 'y'"
   ],
   "metadata": {
    "collapsed": false
   },
   "id": "594cb6ee95087c7d"
  },
  {
   "cell_type": "code",
   "execution_count": 56,
   "outputs": [],
   "source": [
    "# Create an array of indices as x values \n",
    "# We do this because we have more than one independent values on our dataset\n",
    "x_index = np.arange(1, len(dataset) + 1)"
   ],
   "metadata": {
    "collapsed": false,
    "ExecuteTime": {
     "end_time": "2023-10-31T13:05:25.508810Z",
     "start_time": "2023-10-31T13:05:25.444206Z"
    }
   },
   "id": "fe96b451cfce41b9"
  },
  {
   "cell_type": "code",
   "execution_count": 57,
   "outputs": [
    {
     "data": {
      "text/plain": "<Figure size 640x480 with 1 Axes>",
      "image/png": "[encoded data removed]"
     },
     "metadata": {},
     "output_type": "display_data"
    }
   ],
   "source": [
    "# Plot the data\n",
    "plt.scatter(x_index, y)\n",
    "plt.show() "
   ],
   "metadata": {
    "collapsed": false,
    "ExecuteTime": {
     "end_time": "2023-10-31T13:05:25.529166Z",
     "start_time": "2023-10-31T13:05:25.447706Z"
    }
   },
   "id": "2cfd7bd59c4b2d89"
  },
  {
   "cell_type": "markdown",
   "source": [
    "Split the dataset into training and testing sets"
   ],
   "metadata": {
    "collapsed": false
   },
   "id": "74e6ce9e0e0850c3"
  },
  {
   "cell_type": "code",
   "execution_count": 58,
   "outputs": [],
   "source": [
    "x_train, x_test, y_train, y_test = train_test_split(x, y, test_size = 0.2, random_state = 0)"
   ],
   "metadata": {
    "collapsed": false,
    "ExecuteTime": {
     "end_time": "2023-10-31T13:05:25.529567Z",
     "start_time": "2023-10-31T13:05:25.510642Z"
    }
   },
   "id": "ae342316b03032a3"
  },
  {
   "cell_type": "markdown",
   "source": [
    "Scale the features"
   ],
   "metadata": {
    "collapsed": false
   },
   "id": "6ecd1e03c4a2b838"
  },
  {
   "cell_type": "code",
   "execution_count": 59,
   "outputs": [],
   "source": [
    "from sklearn.preprocessing import StandardScaler\n",
    "sc = StandardScaler()\n",
    "x_train = sc.fit_transform(x_train)\n",
    "x_test = sc.transform(x_test)"
   ],
   "metadata": {
    "collapsed": false,
    "ExecuteTime": {
     "end_time": "2023-10-31T13:05:25.529662Z",
     "start_time": "2023-10-31T13:05:25.514569Z"
    }
   },
   "id": "fe6e6a8762f46628"
  },
  {
   "cell_type": "markdown",
   "source": [
    "Create KNN model"
   ],
   "metadata": {
    "collapsed": false
   },
   "id": "a5fd917eaa620522"
  },
  {
   "cell_type": "code",
   "execution_count": 60,
   "outputs": [],
   "source": [
    "KNN_model = KNeighborsClassifier(n_neighbors = 5, metric = 'minkowski', p = 2)"
   ],
   "metadata": {
    "collapsed": false,
    "ExecuteTime": {
     "end_time": "2023-10-31T13:05:25.529861Z",
     "start_time": "2023-10-31T13:05:25.519201Z"
    }
   },
   "id": "8780230c94197773"
  },
  {
   "cell_type": "markdown",
   "source": [
    "Train model"
   ],
   "metadata": {
    "collapsed": false
   },
   "id": "623850b9843bb6ed"
  },
  {
   "cell_type": "code",
   "execution_count": null,
   "outputs": [],
   "source": [
    "KNN_model.fit(x_train, y_train)"
   ],
   "metadata": {
    "collapsed": false
   },
   "id": "6e4bd59077bff6ce"
  },
  {
   "cell_type": "markdown",
   "source": [
    "Make predictions on the test set"
   ],
   "metadata": {
    "collapsed": false
   },
   "id": "625217e1d721011d"
  },
  {
   "cell_type": "code",
   "execution_count": 62,
   "outputs": [],
   "source": [
    "y_pred = KNN_model.predict(x_test)"
   ],
   "metadata": {
    "collapsed": false,
    "ExecuteTime": {
     "end_time": "2023-10-31T13:05:25.584643Z",
     "start_time": "2023-10-31T13:05:25.528853Z"
    }
   },
   "id": "6fac6e4a54a66437"
  },
  {
   "cell_type": "markdown",
   "source": [
    "Visualise real 'y_test' values"
   ],
   "metadata": {
    "collapsed": false
   },
   "id": "4de8bbccfe077642"
  },
  {
   "cell_type": "code",
   "execution_count": 63,
   "outputs": [
    {
     "data": {
      "text/plain": "<Figure size 640x480 with 1 Axes>",
      "image/png": "[encoded data removed]"
     },
     "metadata": {},
     "output_type": "display_data"
    }
   ],
   "source": [
    "x_test_index = np.arange(1, (len(dataset) * 0.2 + 1))\n",
    "plt.scatter(x_test_index, y_test, color = 'Blue') # Real 'y' \n",
    "plt.show()"
   ],
   "metadata": {
    "collapsed": false,
    "ExecuteTime": {
     "end_time": "2023-10-31T13:05:25.620855Z",
     "start_time": "2023-10-31T13:05:25.545650Z"
    }
   },
   "id": "acd3f550ae0dc80c"
  },
  {
   "cell_type": "markdown",
   "source": [
    "Visualise 'y_pred' values"
   ],
   "metadata": {
    "collapsed": false
   },
   "id": "e21b12667643848a"
  },
  {
   "cell_type": "code",
   "execution_count": 64,
   "outputs": [
    {
     "data": {
      "text/plain": "<matplotlib.collections.PathCollection at 0x134b9b910>"
     },
     "execution_count": 64,
     "metadata": {},
     "output_type": "execute_result"
    },
    {
     "data": {
      "text/plain": "<Figure size 640x480 with 1 Axes>",
      "image/png": "[encoded data removed]"
     },
     "metadata": {},
     "output_type": "display_data"
    }
   ],
   "source": [
    "plt.scatter(x_test_index, y_pred,color = 'Red') #Predicted 'y'"
   ],
   "metadata": {
    "collapsed": false,
    "ExecuteTime": {
     "end_time": "2023-10-31T13:05:25.702247Z",
     "start_time": "2023-10-31T13:05:25.620515Z"
    }
   },
   "id": "6ca43cd1df870b81"
  },
  {
   "cell_type": "markdown",
   "source": [],
   "metadata": {
    "collapsed": false
   },
   "id": "766e1b9c0374d5"
  },
  {
   "cell_type": "markdown",
   "source": [
    "Evaluate the model"
   ],
   "metadata": {
    "collapsed": false
   },
   "id": "ef3956dc520e4251"
  },
  {
   "cell_type": "code",
   "execution_count": 65,
   "outputs": [],
   "source": [
    "final_accuracy = accuracy_score(y_test, y_pred)\n",
    "final_conf_matrix = confusion_matrix(y_test, y_pred)\n",
    "final_classification_rep = classification_report(y_test, y_pred)"
   ],
   "metadata": {
    "collapsed": false,
    "ExecuteTime": {
     "end_time": "2023-10-31T13:05:25.707913Z",
     "start_time": "2023-10-31T13:05:25.694683Z"
    }
   },
   "id": "c8af668dadf3eb8e"
  },
  {
   "cell_type": "markdown",
   "source": [
    "Print the results"
   ],
   "metadata": {
    "collapsed": false
   },
   "id": "3ea71c0581b34d65"
  },
  {
   "cell_type": "code",
   "execution_count": 66,
   "outputs": [
    {
     "name": "stdout",
     "output_type": "stream",
     "text": [
      "Final Model Accuracy: 0.95\n",
      "Final Model Confusion Matrix:\n",
      "[[55  3]\n",
      " [ 1 21]]\n",
      "Final Model Classification Report:\n",
      "              precision    recall  f1-score   support\n",
      "\n",
      "           0       0.98      0.95      0.96        58\n",
      "           1       0.88      0.95      0.91        22\n",
      "\n",
      "    accuracy                           0.95        80\n",
      "   macro avg       0.93      0.95      0.94        80\n",
      "weighted avg       0.95      0.95      0.95        80\n"
     ]
    }
   ],
   "source": [
    "print(f'Final Model Accuracy: {final_accuracy}')\n",
    "print('Final Model Confusion Matrix:')\n",
    "print(final_conf_matrix)\n",
    "print('Final Model Classification Report:')\n",
    "print(final_classification_rep)"
   ],
   "metadata": {
    "collapsed": false,
    "ExecuteTime": {
     "end_time": "2023-10-31T13:05:25.768795Z",
     "start_time": "2023-10-31T13:05:25.709334Z"
    }
   },
   "id": "2b6dbc9b2da04474"
  }
 ],
 "metadata": {
  "kernelspec": {
   "display_name": "Python 3",
   "language": "python",
   "name": "python3"
  },
  "language_info": {
   "codemirror_mode": {
    "name": "ipython",
    "version": 2
   },
   "file_extension": ".py",
   "mimetype": "text/x-python",
   "name": "python",
   "nbconvert_exporter": "python",
   "pygments_lexer": "ipython2",
   "version": "2.7.6"
  }
 },
 "nbformat": 4,
 "nbformat_minor": 5
}
