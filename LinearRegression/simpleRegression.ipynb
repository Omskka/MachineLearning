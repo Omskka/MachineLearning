{
 "cells": [
  {
   "cell_type": "markdown",
   "source": [
    "# Simple Linear Regression"
   ],
   "metadata": {
    "collapsed": false
   },
   "id": "38076f3c352a2577"
  },
  {
   "cell_type": "markdown",
   "source": [
    "import numpy and pandas"
   ],
   "metadata": {
    "collapsed": false
   },
   "id": "ab2af33e02b1154a"
  },
  {
   "cell_type": "code",
   "execution_count": 86,
   "outputs": [],
   "source": [
    "import numpy as np\n",
    "import pandas as pd"
   ],
   "metadata": {
    "collapsed": false,
    "ExecuteTime": {
     "end_time": "2023-10-23T20:52:03.143911700Z",
     "start_time": "2023-10-23T20:52:03.055155700Z"
    }
   },
   "id": "dbf58cf46e604aeb"
  },
  {
   "cell_type": "markdown",
   "source": [
    "Load data from the csv file"
   ],
   "metadata": {
    "collapsed": false
   },
   "id": "61d996a0d39be40b"
  },
  {
   "cell_type": "code",
   "execution_count": 87,
   "outputs": [],
   "source": [
    "data = pd.read_csv('data.csv')"
   ],
   "metadata": {
    "collapsed": false,
    "ExecuteTime": {
     "end_time": "2023-10-23T20:52:03.250294800Z",
     "start_time": "2023-10-23T20:52:03.059316Z"
    }
   },
   "id": "c8b575cfd9f23bd7"
  },
  {
   "cell_type": "markdown",
   "source": [
    "Import matplot for visualisation"
   ],
   "metadata": {
    "collapsed": false
   },
   "id": "6e034426114a3767"
  },
  {
   "cell_type": "code",
   "execution_count": 88,
   "outputs": [],
   "source": [
    "import matplotlib.pyplot as plt"
   ],
   "metadata": {
    "collapsed": false,
    "ExecuteTime": {
     "end_time": "2023-10-23T20:52:03.292860600Z",
     "start_time": "2023-10-23T20:52:03.119278600Z"
    }
   },
   "id": "3c56cff37e4dbc6c"
  },
  {
   "cell_type": "code",
   "execution_count": 89,
   "outputs": [
    {
     "data": {
      "text/plain": "<Figure size 640x480 with 1 Axes>",
      "image/png": "[encoded data removed]"
     },
     "metadata": {},
     "output_type": "display_data"
    }
   ],
   "source": [
    "x = data.independant\n",
    "y = data.dependant\n",
    "plt.scatter(x, y)\n",
    "plt.show()"
   ],
   "metadata": {
    "collapsed": false,
    "ExecuteTime": {
     "end_time": "2023-10-23T20:52:03.353900700Z",
     "start_time": "2023-10-23T20:52:03.134696800Z"
    }
   },
   "id": "d6a118bf089cc84"
  },
  {
   "cell_type": "markdown",
   "source": [
    "Split data into training and testing sets\n",
    "For this import the train_test_split library"
   ],
   "metadata": {
    "collapsed": false
   },
   "id": "1cc580c459362ac2"
  },
  {
   "cell_type": "code",
   "execution_count": 90,
   "outputs": [],
   "source": [
    "from sklearn.model_selection import train_test_split"
   ],
   "metadata": {
    "collapsed": false,
    "ExecuteTime": {
     "end_time": "2023-10-23T20:52:03.353900700Z",
     "start_time": "2023-10-23T20:52:03.339573Z"
    }
   },
   "id": "8949c62af4f70d0c"
  },
  {
   "cell_type": "markdown",
   "source": [
    "allocate 80% of the data for training and 20% for testing "
   ],
   "metadata": {
    "collapsed": false
   },
   "id": "1e185ebbc1a3b27a"
  },
  {
   "cell_type": "code",
   "execution_count": 91,
   "outputs": [],
   "source": [
    "x_train, x_test, y_train, y_test = train_test_split(x, y, test_size=0.2, random_state=42)"
   ],
   "metadata": {
    "collapsed": false,
    "ExecuteTime": {
     "end_time": "2023-10-23T20:52:03.386036600Z",
     "start_time": "2023-10-23T20:52:03.349388500Z"
    }
   },
   "id": "1a26af474f105f02"
  },
  {
   "cell_type": "code",
   "execution_count": 92,
   "outputs": [
    {
     "data": {
      "text/plain": "array([[97],\n       [73],\n       [48],\n       [88],\n       [31],\n       [35]], dtype=int64)"
     },
     "execution_count": 92,
     "metadata": {},
     "output_type": "execute_result"
    }
   ],
   "source": [
    "x_train = np.array(x_train).reshape(-1, 1)\n",
    "x_test = np.array(x_test).reshape(-1, 1)\n",
    "x_test"
   ],
   "metadata": {
    "collapsed": false,
    "ExecuteTime": {
     "end_time": "2023-10-23T20:52:03.512274700Z",
     "start_time": "2023-10-23T20:52:03.369930200Z"
    }
   },
   "id": "58f60a5887df0e92"
  },
  {
   "cell_type": "markdown",
   "source": [
    "Import LinearRegression"
   ],
   "metadata": {
    "collapsed": false
   },
   "id": "49c6e5fd48c94bfa"
  },
  {
   "cell_type": "code",
   "execution_count": 93,
   "outputs": [],
   "source": [
    "from sklearn.linear_model import LinearRegression"
   ],
   "metadata": {
    "collapsed": false,
    "ExecuteTime": {
     "end_time": "2023-10-23T20:52:03.533847900Z",
     "start_time": "2023-10-23T20:52:03.387068400Z"
    }
   },
   "id": "81847454a9f10524"
  },
  {
   "cell_type": "code",
   "execution_count": 94,
   "outputs": [
    {
     "data": {
      "text/plain": "LinearRegression()",
      "text/html": "<style>#sk-container-id-4 {color: black;}#sk-container-id-4 pre{padding: 0;}#sk-container-id-4 div.sk-toggleable {background-color: white;}#sk-container-id-4 label.sk-toggleable__label {cursor: pointer;display: block;width: 100%;margin-bottom: 0;padding: 0.3em;box-sizing: border-box;text-align: center;}#sk-container-id-4 label.sk-toggleable__label-arrow:before {content: \"▸\";float: left;margin-right: 0.25em;color: #696969;}#sk-container-id-4 label.sk-toggleable__label-arrow:hover:before {color: black;}#sk-container-id-4 div.sk-estimator:hover label.sk-toggleable__label-arrow:before {color: black;}#sk-container-id-4 div.sk-toggleable__content {max-height: 0;max-width: 0;overflow: hidden;text-align: left;background-color: #f0f8ff;}#sk-container-id-4 div.sk-toggleable__content pre {margin: 0.2em;color: black;border-radius: 0.25em;background-color: #f0f8ff;}#sk-container-id-4 input.sk-toggleable__control:checked~div.sk-toggleable__content {max-height: 200px;max-width: 100%;overflow: auto;}#sk-container-id-4 input.sk-toggleable__control:checked~label.sk-toggleable__label-arrow:before {content: \"▾\";}#sk-container-id-4 div.sk-estimator input.sk-toggleable__control:checked~label.sk-toggleable__label {background-color: #d4ebff;}#sk-container-id-4 div.sk-label input.sk-toggleable__control:checked~label.sk-toggleable__label {background-color: #d4ebff;}#sk-container-id-4 input.sk-hidden--visually {border: 0;clip: rect(1px 1px 1px 1px);clip: rect(1px, 1px, 1px, 1px);height: 1px;margin: -1px;overflow: hidden;padding: 0;position: absolute;width: 1px;}#sk-container-id-4 div.sk-estimator {font-family: monospace;background-color: #f0f8ff;border: 1px dotted black;border-radius: 0.25em;box-sizing: border-box;margin-bottom: 0.5em;}#sk-container-id-4 div.sk-estimator:hover {background-color: #d4ebff;}#sk-container-id-4 div.sk-parallel-item::after {content: \"\";width: 100%;border-bottom: 1px solid gray;flex-grow: 1;}#sk-container-id-4 div.sk-label:hover label.sk-toggleable__label {background-color: #d4ebff;}#sk-container-id-4 div.sk-serial::before {content: \"\";position: absolute;border-left: 1px solid gray;box-sizing: border-box;top: 0;bottom: 0;left: 50%;z-index: 0;}#sk-container-id-4 div.sk-serial {display: flex;flex-direction: column;align-items: center;background-color: white;padding-right: 0.2em;padding-left: 0.2em;position: relative;}#sk-container-id-4 div.sk-item {position: relative;z-index: 1;}#sk-container-id-4 div.sk-parallel {display: flex;align-items: stretch;justify-content: center;background-color: white;position: relative;}#sk-container-id-4 div.sk-item::before, #sk-container-id-4 div.sk-parallel-item::before {content: \"\";position: absolute;border-left: 1px solid gray;box-sizing: border-box;top: 0;bottom: 0;left: 50%;z-index: -1;}#sk-container-id-4 div.sk-parallel-item {display: flex;flex-direction: column;z-index: 1;position: relative;background-color: white;}#sk-container-id-4 div.sk-parallel-item:first-child::after {align-self: flex-end;width: 50%;}#sk-container-id-4 div.sk-parallel-item:last-child::after {align-self: flex-start;width: 50%;}#sk-container-id-4 div.sk-parallel-item:only-child::after {width: 0;}#sk-container-id-4 div.sk-dashed-wrapped {border: 1px dashed gray;margin: 0 0.4em 0.5em 0.4em;box-sizing: border-box;padding-bottom: 0.4em;background-color: white;}#sk-container-id-4 div.sk-label label {font-family: monospace;font-weight: bold;display: inline-block;line-height: 1.2em;}#sk-container-id-4 div.sk-label-container {text-align: center;}#sk-container-id-4 div.sk-container {/* jupyter's `normalize.less` sets `[hidden] { display: none; }` but bootstrap.min.css set `[hidden] { display: none !important; }` so we also need the `!important` here to be able to override the default hidden behavior on the sphinx rendered scikit-learn.org. See: https://github.com/scikit-learn/scikit-learn/issues/21755 */display: inline-block !important;position: relative;}#sk-container-id-4 div.sk-text-repr-fallback {display: none;}</style><div id=\"sk-container-id-4\" class=\"sk-top-container\"><div class=\"sk-text-repr-fallback\"><pre>LinearRegression()</pre><b>In a Jupyter environment, please rerun this cell to show the HTML representation or trust the notebook. <br />On GitHub, the HTML representation is unable to render, please try loading this page with nbviewer.org.</b></div><div class=\"sk-container\" hidden><div class=\"sk-item\"><div class=\"sk-estimator sk-toggleable\"><input class=\"sk-toggleable__control sk-hidden--visually\" id=\"sk-estimator-id-4\" type=\"checkbox\" checked><label for=\"sk-estimator-id-4\" class=\"sk-toggleable__label sk-toggleable__label-arrow\">LinearRegression</label><div class=\"sk-toggleable__content\"><pre>LinearRegression()</pre></div></div></div></div></div>"
     },
     "execution_count": 94,
     "metadata": {},
     "output_type": "execute_result"
    }
   ],
   "source": [
    "lr = LinearRegression()\n",
    "lr.fit(x_train, y_train)"
   ],
   "metadata": {
    "collapsed": false,
    "ExecuteTime": {
     "end_time": "2023-10-23T20:52:03.534352800Z",
     "start_time": "2023-10-23T20:52:03.401888300Z"
    }
   },
   "id": "a23620c4fc7bb581"
  },
  {
   "cell_type": "markdown",
   "source": [
    "Now we have the most optimal c and m values"
   ],
   "metadata": {
    "collapsed": false
   },
   "id": "2f832df0ab340b02"
  },
  {
   "cell_type": "code",
   "execution_count": 95,
   "outputs": [
    {
     "name": "stdout",
     "output_type": "stream",
     "text": [
      "c : 13.916176548860975\n",
      "m : [1.53321934]\n"
     ]
    }
   ],
   "source": [
    "c = lr.intercept_\n",
    "print(\"c : \" + str(c))\n",
    "\n",
    "m = lr.coef_\n",
    "print(\"m : \" + str(m))"
   ],
   "metadata": {
    "collapsed": false,
    "ExecuteTime": {
     "end_time": "2023-10-23T20:52:03.534352800Z",
     "start_time": "2023-10-23T20:52:03.418916200Z"
    }
   },
   "id": "ed07c8ad6159511e"
  },
  {
   "cell_type": "markdown",
   "source": [
    "We can check for our y predictions"
   ],
   "metadata": {
    "collapsed": false
   },
   "id": "4baafa75d31fd2d"
  },
  {
   "cell_type": "code",
   "execution_count": 96,
   "outputs": [
    {
     "name": "stdout",
     "output_type": "stream",
     "text": [
      "Y predictions: [145.77303997  16.98261523 158.03879471  92.110363   115.10865313\n",
      "  81.3778276  131.97406589  21.58227326  33.848028    38.44768602\n",
      "  24.64871194 151.90591734  32.31480865 150.372698   154.97235603\n",
      " 133.50728524 167.23811076 138.10694326  47.64700208  70.64529221\n",
      " 101.30967905 135.04050458  43.04734405]\n"
     ]
    }
   ],
   "source": [
    "# Manuel : y_predictions = m * x_train + c\n",
    "# With Python function:\n",
    "y_predictions = lr.predict(x_train)\n",
    "print(\"Y predictions: \" + str(y_predictions))"
   ],
   "metadata": {
    "collapsed": false,
    "ExecuteTime": {
     "end_time": "2023-10-23T20:52:03.534352800Z",
     "start_time": "2023-10-23T20:52:03.433616400Z"
    }
   },
   "id": "cfb76b40582be5de"
  },
  {
   "cell_type": "markdown",
   "source": [
    "Lets compare our predictions with the real y values"
   ],
   "metadata": {
    "collapsed": false
   },
   "id": "db7cbfe0e7c5eb99"
  },
  {
   "cell_type": "code",
   "execution_count": 97,
   "outputs": [
    {
     "data": {
      "text/plain": "<matplotlib.collections.PathCollection at 0x219611c9110>"
     },
     "execution_count": 97,
     "metadata": {},
     "output_type": "execute_result"
    },
    {
     "data": {
      "text/plain": "<Figure size 640x480 with 1 Axes>",
      "image/png": "[encoded data removed]"
     },
     "metadata": {},
     "output_type": "display_data"
    }
   ],
   "source": [
    "plt.scatter(x_train, y_train) # Real y values (Blue)\n",
    "plt.scatter(x_train, y_predictions, color = 'red') # Our predictions (red)"
   ],
   "metadata": {
    "collapsed": false,
    "ExecuteTime": {
     "end_time": "2023-10-23T20:52:04.048517200Z",
     "start_time": "2023-10-23T20:52:03.450088Z"
    }
   },
   "id": "94ee8f3812625104"
  },
  {
   "cell_type": "markdown",
   "source": [
    "Now lets compare for the test data "
   ],
   "metadata": {
    "collapsed": false
   },
   "id": "e3c59698f03e3e6f"
  },
  {
   "cell_type": "code",
   "execution_count": 98,
   "outputs": [
    {
     "data": {
      "text/plain": "<matplotlib.collections.PathCollection at 0x219610fd4d0>"
     },
     "execution_count": 98,
     "metadata": {},
     "output_type": "execute_result"
    },
    {
     "data": {
      "text/plain": "<Figure size 640x480 with 1 Axes>",
      "image/png": "[encoded data removed]"
     },
     "metadata": {},
     "output_type": "display_data"
    }
   ],
   "source": [
    "y_predictions2 = lr.predict(x_test)\n",
    "plt.scatter(x_test, y_test)\n",
    "plt.scatter(x_test, y_predictions2)"
   ],
   "metadata": {
    "collapsed": false,
    "ExecuteTime": {
     "end_time": "2023-10-23T20:52:04.385059900Z",
     "start_time": "2023-10-23T20:52:04.030696500Z"
    }
   },
   "id": "ca8db93071ae6a82"
  },
  {
   "cell_type": "markdown",
   "source": [
    "Import mean_squared_error to find the MSE value"
   ],
   "metadata": {
    "collapsed": false
   },
   "id": "f258c6e1899f7239"
  },
  {
   "cell_type": "code",
   "execution_count": 99,
   "outputs": [],
   "source": [
    "from sklearn.metrics import mean_squared_error "
   ],
   "metadata": {
    "collapsed": false,
    "ExecuteTime": {
     "end_time": "2023-10-23T20:52:04.385059900Z",
     "start_time": "2023-10-23T20:52:04.369922400Z"
    }
   },
   "id": "625e374256862c6b"
  },
  {
   "cell_type": "code",
   "execution_count": 100,
   "outputs": [
    {
     "data": {
      "text/plain": "2391.912468951461"
     },
     "execution_count": 100,
     "metadata": {},
     "output_type": "execute_result"
    }
   ],
   "source": [
    "mean_squared_error(x_test, y_predictions2) "
   ],
   "metadata": {
    "collapsed": false,
    "ExecuteTime": {
     "end_time": "2023-10-23T20:52:04.405918900Z",
     "start_time": "2023-10-23T20:52:04.382765600Z"
    }
   },
   "id": "41b74902350572ce"
  }
 ],
 "metadata": {
  "kernelspec": {
   "display_name": "Python 3",
   "language": "python",
   "name": "python3"
  },
  "language_info": {
   "codemirror_mode": {
    "name": "ipython",
    "version": 2
   },
   "file_extension": ".py",
   "mimetype": "text/x-python",
   "name": "python",
   "nbconvert_exporter": "python",
   "pygments_lexer": "ipython2",
   "version": "2.7.6"
  }
 },
 "nbformat": 4,
 "nbformat_minor": 5
}
